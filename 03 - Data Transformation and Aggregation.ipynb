{
 "cells": [
  {
   "cell_type": "code",
   "execution_count": 0,
   "metadata": {
    "application/vnd.databricks.v1+cell": {
     "cellMetadata": {
      "byteLimit": 2048000,
      "implicitDf": true,
      "rowLimit": 10000
     },
     "inputWidgets": {},
     "nuid": "31559c67-f617-4245-abfe-851f9173cc40",
     "showTitle": false,
     "tableResultSettingsMap": {},
     "title": ""
    }
   },
   "outputs": [],
   "source": [
    "%sql\n",
    "USE CATALOG online_retail;\n",
    "CREATE SCHEMA IF NOT EXISTS gold;\n",
    "USE SCHEMA gold;"
   ]
  },
  {
   "cell_type": "code",
   "execution_count": 0,
   "metadata": {
    "application/vnd.databricks.v1+cell": {
     "cellMetadata": {
      "byteLimit": 2048000,
      "rowLimit": 10000
     },
     "inputWidgets": {},
     "nuid": "0e242bab-b2c5-4298-be36-d3df8a9c6e2e",
     "showTitle": false,
     "tableResultSettingsMap": {},
     "title": ""
    }
   },
   "outputs": [],
   "source": [
    "cleaned_df = spark.sql(\"SELECT * FROM silver.cleaned_data\")\n",
    "cleaned_df.createOrReplaceTempView(\"uvw_src_cleaned_df\")"
   ]
  },
  {
   "cell_type": "code",
   "execution_count": 0,
   "metadata": {
    "application/vnd.databricks.v1+cell": {
     "cellMetadata": {
      "byteLimit": 2048000,
      "implicitDf": true,
      "rowLimit": 10000
     },
     "inputWidgets": {},
     "nuid": "80ace59d-f901-4b98-8fac-981abde61a21",
     "showTitle": false,
     "tableResultSettingsMap": {},
     "title": ""
    }
   },
   "outputs": [],
   "source": [
    "%sql\n",
    "CREATE TABLE IF NOT EXISTS  aggregated_data (\n",
    "  invoice_number STRING NOT NULL\n",
    "  , product_code STRING NOT NULL\n",
    "  , product_description STRING NOT NULL\n",
    "  , total_quantity INTEGER\n",
    "  , invoice_date TIMESTAMP\n",
    "  , average_unit_price DOUBLE\n",
    "  , customer_id INTEGER\n",
    "  , country STRING\n",
    ");\n",
    "\n",
    "ALTER TABLE aggregated_data DROP CONSTRAINT IF EXISTS invoices_pk;\n",
    "ALTER TABLE aggregated_data ADD CONSTRAINT invoices_pk PRIMARY KEY (invoice_number, product_code);"
   ]
  },
  {
   "cell_type": "code",
   "execution_count": 0,
   "metadata": {
    "application/vnd.databricks.v1+cell": {
     "cellMetadata": {
      "byteLimit": 2048000,
      "implicitDf": true,
      "rowLimit": 10000
     },
     "inputWidgets": {},
     "nuid": "49c86f5f-2eab-4592-ac93-45315c45d928",
     "showTitle": false,
     "tableResultSettingsMap": {},
     "title": ""
    }
   },
   "outputs": [],
   "source": [
    "%sql\n",
    "WITH CTE_transformed_data AS (\n",
    "  SELECT \n",
    "    invoice_number\n",
    "    , product_code\n",
    "    , MAX(LOWER(product_description))   AS product_description\n",
    "    , SUM(quantity)                     AS total_quantity\n",
    "    , MAX(invoice_date)                 AS invoice_date\n",
    "    , AVG(unit_price)                   AS average_unit_price\n",
    "    , customer_id\n",
    "    , UPPER(country)                    AS country\n",
    "FROM uvw_src_cleaned_df\n",
    "GROUP BY invoice_number\n",
    "        , product_code\n",
    "        , customer_id\n",
    "        , country\n",
    ")\n",
    "\n",
    "\n",
    "MERGE INTO aggregated_data AS TGT\n",
    "USING CTE_transformed_data AS SRC\n",
    "ON TGT.invoice_number = SRC.invoice_number\n",
    "AND TGT.product_code = SRC.product_code\n",
    "WHEN MATCHED\n",
    "THEN UPDATE SET *\n",
    "WHEN NOT MATCHED\n",
    "THEN INSERT *"
   ]
  }
 ],
 "metadata": {
  "application/vnd.databricks.v1+notebook": {
   "computePreferences": null,
   "dashboards": [],
   "environmentMetadata": {
    "base_environment": "",
    "environment_version": "2"
   },
   "language": "python",
   "notebookMetadata": {
    "mostRecentlyExecutedCommandWithImplicitDF": {
     "commandId": 8705837985057637,
     "dataframes": [
      "_sqldf"
     ]
    },
    "pythonIndentUnit": 4
   },
   "notebookName": "03 - Data Transformation and Aggregation",
   "widgets": {}
  },
  "language_info": {
   "name": "python"
  }
 },
 "nbformat": 4,
 "nbformat_minor": 0
}
