{
 "cells": [
  {
   "cell_type": "markdown",
   "metadata": {
    "application/vnd.databricks.v1+cell": {
     "cellMetadata": {},
     "inputWidgets": {},
     "nuid": "d0bad7f5-834f-4dc7-b6f3-7c08833c4f8c",
     "showTitle": false,
     "tableResultSettingsMap": {},
     "title": ""
    }
   },
   "source": [
    "\n",
    "#Use necessary catalog and schema"
   ]
  },
  {
   "cell_type": "code",
   "execution_count": 0,
   "metadata": {
    "application/vnd.databricks.v1+cell": {
     "cellMetadata": {
      "byteLimit": 2048000,
      "implicitDf": true,
      "rowLimit": 10000
     },
     "inputWidgets": {},
     "nuid": "6cffdc55-4659-4110-9f5c-7a034402504a",
     "showTitle": false,
     "tableResultSettingsMap": {},
     "title": ""
    }
   },
   "outputs": [],
   "source": [
    "%sql\n",
    "USE CATALOG online_retail;\n",
    "CREATE SCHEMA if not exists silver;\n",
    "USE SCHEMA silver;"
   ]
  },
  {
   "cell_type": "markdown",
   "metadata": {
    "application/vnd.databricks.v1+cell": {
     "cellMetadata": {},
     "inputWidgets": {},
     "nuid": "1f8b871e-1ebb-4815-8488-f4b97c2be2b7",
     "showTitle": false,
     "tableResultSettingsMap": {},
     "title": ""
    }
   },
   "source": [
    "#Create source view from raw_data"
   ]
  },
  {
   "cell_type": "code",
   "execution_count": 0,
   "metadata": {
    "application/vnd.databricks.v1+cell": {
     "cellMetadata": {
      "byteLimit": 2048000,
      "rowLimit": 10000
     },
     "inputWidgets": {},
     "nuid": "004abda1-45a9-4f65-b716-7f10c23a062d",
     "showTitle": false,
     "tableResultSettingsMap": {},
     "title": ""
    }
   },
   "outputs": [],
   "source": [
    "raw_df = spark.sql(\"SELECT * FROM bronze.raw_data\")\n",
    "raw_df.createOrReplaceTempView(\"uvw_raw_df\")"
   ]
  },
  {
   "cell_type": "markdown",
   "metadata": {
    "application/vnd.databricks.v1+cell": {
     "cellMetadata": {},
     "inputWidgets": {},
     "nuid": "8df1393a-6fc3-48c5-a5ba-5dcb8e8fe4f0",
     "showTitle": false,
     "tableResultSettingsMap": {},
     "title": ""
    }
   },
   "source": [
    "\n",
    "#Merge Data into Target Table"
   ]
  },
  {
   "cell_type": "code",
   "execution_count": 0,
   "metadata": {
    "application/vnd.databricks.v1+cell": {
     "cellMetadata": {
      "byteLimit": 2048000,
      "implicitDf": true,
      "rowLimit": 10000
     },
     "inputWidgets": {},
     "nuid": "8fec41a2-d934-4232-8df1-d0dbab3d0a74",
     "showTitle": true,
     "tableResultSettingsMap": {},
     "title": "Create Target Table"
    }
   },
   "outputs": [],
   "source": [
    "%sql\n",
    "CREATE TABLE IF NOT EXISTS cleaned_data (\n",
    "  invoice_number STRING NOT NULL\n",
    "  , product_code STRING NOT NULL\n",
    "  , product_description STRING NOT NULL\n",
    "  , quantity INTEGER\n",
    "  , invoice_date TIMESTAMP\n",
    "  , unit_price DOUBLE\n",
    "  , customer_id INT\n",
    "  , country STRING\n",
    ");\n",
    "\n",
    "ALTER TABLE cleaned_data DROP CONSTRAINT IF EXISTS quantity_check;\n",
    "ALTER TABLE cleaned_data ADD CONSTRAINT quantity_check CHECK (quantity >= 0);\n",
    "\n",
    "ALTER TABLE cleaned_data DROP CONSTRAINT IF EXISTS unit_price_check;\n",
    "ALTER TABLE cleaned_data ADD CONSTRAINT unit_price_check CHECK (unit_price >= 0);"
   ]
  },
  {
   "cell_type": "code",
   "execution_count": 0,
   "metadata": {
    "application/vnd.databricks.v1+cell": {
     "cellMetadata": {
      "byteLimit": 2048000,
      "implicitDf": true,
      "rowLimit": 10000
     },
     "inputWidgets": {},
     "nuid": "2ee445e1-93d9-45e6-b953-35667be78260",
     "showTitle": true,
     "tableResultSettingsMap": {},
     "title": "Vacuum table"
    }
   },
   "outputs": [],
   "source": [
    "%sql\n",
    "\n",
    "--VACUUM cleaned_data RETAIN 168 HOURS;  -- Commented out as it is not needed to run everytime"
   ]
  },
  {
   "cell_type": "code",
   "execution_count": 0,
   "metadata": {
    "application/vnd.databricks.v1+cell": {
     "cellMetadata": {
      "byteLimit": 2048000,
      "implicitDf": true,
      "rowLimit": 10000
     },
     "inputWidgets": {},
     "nuid": "c345730f-1c8d-48b6-9900-491e3be251bc",
     "showTitle": true,
     "tableResultSettingsMap": {},
     "title": "Merge into target table"
    }
   },
   "outputs": [],
   "source": [
    "%sql\n",
    "\n",
    "WITH CTE_cleaned_data AS (\n",
    "    SELECT DISTINCT                                                              -- Dropping duplicates by using DISTINCT\n",
    "        COALESCE(InvoiceNo, 'Unknown')                                                    AS invoice_number         -- Replace NULL values with 'Unknown'\n",
    "        , COALESCE(UPPER(StockCode), 'Unknown')                                                  AS product_code           -- Replace NULL values with 'Unknown'\n",
    "\n",
    "        -- Get the correct product description for a product; replace with Unknown if still NULL\n",
    "        , COALESCE(MAX(UPPER(Description)) OVER (PARTITION BY stockCode), 'Unknown')             AS product_description    \n",
    "        \n",
    "        , COALESCE(Quantity, 0)                                                           AS quantity               -- Replace NULL values with 0\n",
    "        , COALESCE(InvoiceDate, '9999-01-01T00:00:00.000+00:00')                          AS invoice_date           -- Replace NULL values with default date \n",
    "        , COALESCE(UnitPrice, 0)                                                          AS unit_price             -- Replace NULL values with 0\n",
    "        , COALESCE(CustomerID, 0)                                                         AS customer_id            -- Replace NULL values with 0\n",
    "        , COALESCE(Country, 'Unknown')                                                    AS country                -- Replace NULL values with 'Unknown'\n",
    "    FROM uvw_raw_df\n",
    "    WHERE Quantity >= 0 AND UnitPrice >= 0                                      -- Dropping records that have negative quantity and unit prices\n",
    ")\n",
    "\n",
    "\n",
    "-- Merging on all columns to load all records\n",
    "MERGE INTO cleaned_data AS TGT\n",
    "USING CTE_cleaned_data AS SRC\n",
    "ON TGT.invoice_number        = SRC.invoice_number\n",
    "  AND TGT.product_code       = SRC.product_code\n",
    "  AND TGT.product_description     = SRC.product_description\n",
    "  AND TGT.quantity        = SRC.quantity\n",
    "  AND TGT.invoice_date     = SRC.invoice_date\n",
    "  AND TGT.unit_price       = SRC.unit_price\n",
    "  AND TGT.customer_id      = SRC.customer_id\n",
    "  AND TGT.country         = SRC.country\n",
    "WHEN NOT MATCHED \n",
    "THEN INSERT *"
   ]
  }
 ],
 "metadata": {
  "application/vnd.databricks.v1+notebook": {
   "computePreferences": null,
   "dashboards": [],
   "environmentMetadata": {
    "base_environment": "",
    "environment_version": "2"
   },
   "inputWidgetPreferences": null,
   "language": "python",
   "notebookMetadata": {
    "mostRecentlyExecutedCommandWithImplicitDF": {
     "commandId": 8705837985057615,
     "dataframes": [
      "_sqldf"
     ]
    },
    "pythonIndentUnit": 4
   },
   "notebookName": "02 - Clean Data",
   "widgets": {}
  },
  "language_info": {
   "name": "python"
  }
 },
 "nbformat": 4,
 "nbformat_minor": 0
}
