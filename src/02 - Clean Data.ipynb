{
 "cells": [
  {
   "cell_type": "markdown",
   "metadata": {
    "application/vnd.databricks.v1+cell": {
     "cellMetadata": {},
     "inputWidgets": {},
     "nuid": "d0bad7f5-834f-4dc7-b6f3-7c08833c4f8c",
     "showTitle": false,
     "tableResultSettingsMap": {},
     "title": ""
    }
   },
   "source": [
    "\n",
    "#Use necessary catalog and schema"
   ]
  },
  {
   "cell_type": "code",
   "execution_count": 0,
   "metadata": {
    "application/vnd.databricks.v1+cell": {
     "cellMetadata": {
      "byteLimit": 2048000,
      "implicitDf": true,
      "rowLimit": 10000
     },
     "inputWidgets": {},
     "nuid": "6cffdc55-4659-4110-9f5c-7a034402504a",
     "showTitle": false,
     "tableResultSettingsMap": {},
     "title": ""
    }
   },
   "outputs": [],
   "source": [
    "%sql\n",
    "USE CATALOG online_retail;\n",
    "CREATE SCHEMA if not exists silver;\n",
    "USE SCHEMA silver;"
   ]
  },
  {
   "cell_type": "markdown",
   "metadata": {
    "application/vnd.databricks.v1+cell": {
     "cellMetadata": {},
     "inputWidgets": {},
     "nuid": "1f8b871e-1ebb-4815-8488-f4b97c2be2b7",
     "showTitle": false,
     "tableResultSettingsMap": {},
     "title": ""
    }
   },
   "source": [
    "#Create source view from raw_data"
   ]
  },
  {
   "cell_type": "code",
   "execution_count": 0,
   "metadata": {
    "application/vnd.databricks.v1+cell": {
     "cellMetadata": {
      "byteLimit": 2048000,
      "rowLimit": 10000
     },
     "inputWidgets": {},
     "nuid": "004abda1-45a9-4f65-b716-7f10c23a062d",
     "showTitle": false,
     "tableResultSettingsMap": {},
     "title": ""
    }
   },
   "outputs": [],
   "source": [
    "raw_df = spark.sql(\"SELECT * FROM bronze.raw_data\")\n",
    "raw_df.createOrReplaceTempView(\"uvw_raw_df\")"
   ]
  },
  {
   "cell_type": "markdown",
   "metadata": {
    "application/vnd.databricks.v1+cell": {
     "cellMetadata": {},
     "inputWidgets": {},
     "nuid": "8df1393a-6fc3-48c5-a5ba-5dcb8e8fe4f0",
     "showTitle": false,
     "tableResultSettingsMap": {},
     "title": ""
    }
   },
   "source": [
    "\n",
    "#Merge Data into Target Table"
   ]
  },
  {
   "cell_type": "code",
   "execution_count": 0,
   "metadata": {
    "application/vnd.databricks.v1+cell": {
     "cellMetadata": {
      "byteLimit": 2048000,
      "implicitDf": true,
      "rowLimit": 10000
     },
     "inputWidgets": {},
     "nuid": "8fec41a2-d934-4232-8df1-d0dbab3d0a74",
     "showTitle": true,
     "tableResultSettingsMap": {},
     "title": "Create Target Table"
    }
   },
   "outputs": [],
   "source": [
    "%sql\n",
    "CREATE TABLE IF NOT EXISTS cleaned_data (\n",
    "  invoice_number STRING NOT NULL\n",
    "  , product_code STRING NOT NULL\n",
    "  , product_description STRING NOT NULL\n",
    "  , quantity INTEGER\n",
    "  , invoice_date TIMESTAMP\n",
    "  , unit_price DOUBLE\n",
    "  , customer_id INT\n",
    "  , country STRING\n",
    ");\n",
    "\n",
    "ALTER TABLE cleaned_data DROP CONSTRAINT IF EXISTS quantity_check;\n",
    "ALTER TABLE cleaned_data ADD CONSTRAINT quantity_check CHECK (quantity >= 0);\n",
    "\n",
    "ALTER TABLE cleaned_data DROP CONSTRAINT IF EXISTS unit_price_check;\n",
    "ALTER TABLE cleaned_data ADD CONSTRAINT unit_price_check CHECK (unit_price >= 0);"
   ]
  },
  {
   "cell_type": "code",
   "execution_count": 0,
   "metadata": {
    "application/vnd.databricks.v1+cell": {
     "cellMetadata": {
      "byteLimit": 2048000,
      "implicitDf": true,
      "rowLimit": 10000
     },
     "inputWidgets": {},
     "nuid": "2ee445e1-93d9-45e6-b953-35667be78260",
     "showTitle": true,
     "tableResultSettingsMap": {},
     "title": "Vacuum table"
    }
   },
   "outputs": [],
   "source": [
    "%sql\n",
    "\n",
    "--VACUUM cleaned_data RETAIN 168 HOURS;  -- Commented out as it is not needed to run everytime"
   ]
  },
  {
   "cell_type": "code",
   "execution_count": 0,
   "metadata": {
    "application/vnd.databricks.v1+cell": {
     "cellMetadata": {
      "byteLimit": 2048000,
      "implicitDf": true,
      "rowLimit": 10000
     },
     "inputWidgets": {},
     "nuid": "c345730f-1c8d-48b6-9900-491e3be251bc",
     "showTitle": true,
     "tableResultSettingsMap": {},
     "title": "Merge into target table"
    }
   },
   "outputs": [],
   "source": [
    "%sql\n",
    "\n",
    "WITH CTE_cleaned_data AS (\n",
    "    SELECT DISTINCT                                                              -- Dropping duplicates\n",
    "        COALESCE(InvoiceNo, 'Unknown')                              AS invoice_number         -- Replace NULL values with 'Unknown'\n",
    "        , COALESCE(StockCode, 'Unknown')                            AS product_code           -- Replace NULL values with 'Unknown'\n",
    "        , COALESCE(Description, 'Unknown')                          AS product_description    -- Replace NULL values with 'Unknown'\n",
    "        , COALESCE(Quantity, 0)                                     AS quantity               -- Replace NULL values with 0\n",
    "        , COALESCE(InvoiceDate, '9999-01-01T00:00:00.000+00:00')    AS invoice_date           -- Replace NULL values with default date \n",
    "        , COALESCE(UnitPrice, 0)                                    AS unit_price             -- Replace NULL values with 0\n",
    "        , COALESCE(CustomerID, 0)                                   AS customer_id            -- Replace NULL values with 0\n",
    "        , COALESCE(Country, 'Unknown')                              AS country                -- Replace NULL values with 'Unknown'\n",
    "    FROM uvw_raw_df\n",
    "    WHERE Quantity >= 0 AND UnitPrice >= 0                                      -- Dropping records that have negative quantity and unit prices\n",
    ")\n",
    "\n",
    "\n",
    "-- Merging on all columns to load all records\n",
    "MERGE INTO cleaned_data AS TGT\n",
    "USING CTE_cleaned_data AS SRC\n",
    "ON TGT.invoice_number        = SRC.invoice_number\n",
    "  AND TGT.product_code       = SRC.product_code\n",
    "  AND TGT.product_description     = SRC.product_description\n",
    "  AND TGT.quantity        = SRC.quantity\n",
    "  AND TGT.invoice_date     = SRC.invoice_date\n",
    "  AND TGT.unit_price       = SRC.unit_price\n",
    "  AND TGT.customer_id      = SRC.customer_id\n",
    "  AND TGT.country         = SRC.country\n",
    "WHEN NOT MATCHED \n",
    "THEN INSERT *"
   ]
  },
  {
   "cell_type": "markdown",
   "metadata": {
    "application/vnd.databricks.v1+cell": {
     "cellMetadata": {},
     "inputWidgets": {},
     "nuid": "827ec376-cc98-48b5-a0be-c2e32a7ac9dc",
     "showTitle": false,
     "tableResultSettingsMap": {},
     "title": ""
    }
   },
   "source": [
    "\n",
    "#Data Quality Monitoring and Alerts"
   ]
  },
  {
   "cell_type": "code",
   "execution_count": 0,
   "metadata": {
    "application/vnd.databricks.v1+cell": {
     "cellMetadata": {
      "byteLimit": 2048000,
      "implicitDf": true,
      "rowLimit": 10000
     },
     "inputWidgets": {},
     "nuid": "1867f035-a166-414a-9144-63d34264579f",
     "showTitle": true,
     "tableResultSettingsMap": {},
     "title": "Create Data Quality Checks and Alerts tables"
    }
   },
   "outputs": [],
   "source": [
    "%sql\n",
    "CREATE TABLE IF NOT EXISTS data_quality_checks (\n",
    "    check_name STRING,\n",
    "    layer STRING,\n",
    "    issue_count BIGINT,\n",
    "    last_checked TIMESTAMP\n",
    ");\n",
    "\n",
    "\n",
    "CREATE TABLE IF NOT EXISTS data_quality_alerts (\n",
    "    alert_id STRING,\n",
    "    issue STRING,\n",
    "    layer STRING,\n",
    "    detected_at TIMESTAMP,\n",
    "    severity STRING\n",
    ");"
   ]
  },
  {
   "cell_type": "code",
   "execution_count": 0,
   "metadata": {
    "application/vnd.databricks.v1+cell": {
     "cellMetadata": {
      "byteLimit": 2048000,
      "implicitDf": true,
      "rowLimit": 10000
     },
     "inputWidgets": {},
     "nuid": "e1f4bf81-cc1a-4145-bb07-547266ce9e8a",
     "showTitle": true,
     "tableResultSettingsMap": {},
     "title": "Check for missing Customer IDs"
    }
   },
   "outputs": [],
   "source": [
    "%sql\n",
    "-- Check for missing Customer IDs\n",
    "INSERT INTO data_quality_checks (\n",
    "  check_name\n",
    "  , layer\n",
    "  , issue_count\n",
    "  , last_checked\n",
    ")\n",
    "SELECT \n",
    "  'Missing CustomerID'\n",
    "  , 'Silver'\n",
    "  , COUNT(*)\n",
    "  , current_timestamp\n",
    "FROM cleaned_data\n",
    "WHERE customer_id = 0;"
   ]
  },
  {
   "cell_type": "code",
   "execution_count": 0,
   "metadata": {
    "application/vnd.databricks.v1+cell": {
     "cellMetadata": {
      "byteLimit": 2048000,
      "implicitDf": true,
      "rowLimit": 10000
     },
     "inputWidgets": {},
     "nuid": "a99718c9-b243-412f-982f-7b8b500ef745",
     "showTitle": true,
     "tableResultSettingsMap": {},
     "title": "Check for negative or zero prices"
    }
   },
   "outputs": [],
   "source": [
    "%sql\n",
    "\n",
    "-- Check for negative or zero prices\n",
    "INSERT INTO data_quality_checks (\n",
    "  check_name\n",
    "  , layer\n",
    "  , issue_count\n",
    "  , last_checked\n",
    ")\n",
    "SELECT \n",
    "  'Negative or Zero Price'\n",
    "  , 'Silver'\n",
    "  , COUNT(*)\n",
    "  , current_timestamp\n",
    "FROM cleaned_data\n",
    "WHERE unit_price <= 0;"
   ]
  },
  {
   "cell_type": "code",
   "execution_count": 0,
   "metadata": {
    "application/vnd.databricks.v1+cell": {
     "cellMetadata": {
      "byteLimit": 2048000,
      "implicitDf": true,
      "rowLimit": 10000
     },
     "inputWidgets": {},
     "nuid": "beea87d3-afff-44b6-9c9e-79c6edb38c7d",
     "showTitle": true,
     "tableResultSettingsMap": {},
     "title": "Check for duplicate invoices"
    }
   },
   "outputs": [],
   "source": [
    "%sql\n",
    "\n",
    "-- Check for duplicate invoices\n",
    "INSERT INTO data_quality_checks (\n",
    "  check_name\n",
    "  , layer\n",
    "  , issue_count\n",
    "  , last_checked\n",
    ")\n",
    "SELECT 'Duplicate Invoices', 'Silver', COUNT(*), current_timestamp\n",
    "FROM (\n",
    "    SELECT invoice_number, customer_id, product_code, COUNT(*) AS count\n",
    "    FROM cleaned_data\n",
    "    GROUP BY invoice_number, customer_id, product_code\n",
    "    HAVING COUNT(*) > 1\n",
    ") duplicates;"
   ]
  },
  {
   "cell_type": "code",
   "execution_count": 0,
   "metadata": {
    "application/vnd.databricks.v1+cell": {
     "cellMetadata": {
      "byteLimit": 2048000,
      "implicitDf": true,
      "rowLimit": 10000
     },
     "inputWidgets": {},
     "nuid": "fb7b7b5e-013e-4d33-9a68-e7a68ea184ac",
     "showTitle": true,
     "tableResultSettingsMap": {},
     "title": "Insert alerts for missing customersIDs"
    }
   },
   "outputs": [],
   "source": [
    "%sql\n",
    "-- Data-Quality-Alerts\n",
    "-- Insert alerts for missing customersIDs\n",
    "INSERT INTO data_quality_alerts (\n",
    "  alert_id\n",
    "  , issue\n",
    "  , layer\n",
    "  , severity\n",
    "  , detected_at\n",
    ")\n",
    "SELECT \n",
    "  UUID()\n",
    "  , 'High number of missing CustomerIDs'\n",
    "  , 'Silver'\n",
    "  , 'High'\n",
    "  , current_timestamp\n",
    "WHERE (SELECT COUNT(*) FROM cleaned_data WHERE customer_id IS NULL) > 1000;"
   ]
  },
  {
   "cell_type": "code",
   "execution_count": 0,
   "metadata": {
    "application/vnd.databricks.v1+cell": {
     "cellMetadata": {
      "byteLimit": 2048000,
      "implicitDf": true,
      "rowLimit": 10000
     },
     "inputWidgets": {},
     "nuid": "17aa1d8f-afc0-4751-b151-5be241b16bcd",
     "showTitle": true,
     "tableResultSettingsMap": {},
     "title": "Insert alerts for negative or zero prices"
    }
   },
   "outputs": [],
   "source": [
    "%sql\n",
    "--Insert alerts for negative or zero prices\n",
    "INSERT INTO data_quality_alerts (\n",
    "  alert_id\n",
    "  , issue\n",
    "  , layer\n",
    "  , severity\n",
    "  , detected_at\n",
    ")\n",
    "SELECT \n",
    "  UUID()\n",
    "  , 'Negative or zero prices detected'\n",
    "  , 'Silver'\n",
    "  , 'Medium'\n",
    "  , current_timestamp\n",
    "WHERE (SELECT COUNT(*) FROM cleaned_data WHERE unit_price <= 0) > 100;"
   ]
  },
  {
   "cell_type": "code",
   "execution_count": 0,
   "metadata": {
    "application/vnd.databricks.v1+cell": {
     "cellMetadata": {
      "byteLimit": 2048000,
      "implicitDf": true,
      "rowLimit": 10000
     },
     "inputWidgets": {},
     "nuid": "39428de8-9916-4c09-9cf8-60acea864072",
     "showTitle": true,
     "tableResultSettingsMap": {},
     "title": "Insert alerts for duplicate invoices"
    }
   },
   "outputs": [],
   "source": [
    "%sql\n",
    "--Insert alerts for duplicate invoices\n",
    "INSERT INTO data_quality_alerts (\n",
    "  alert_id\n",
    "  , issue\n",
    "  , layer\n",
    "  , severity\n",
    "  , detected_at\n",
    ")\n",
    "SELECT \n",
    "  UUID()\n",
    "  , 'Duplicate invoices detected'\n",
    "  , 'Silver'\n",
    "  , 'Low'\n",
    "  , current_timestamp\n",
    "WHERE (SELECT COUNT(*) FROM (\n",
    "    SELECT invoice_number, customer_id, product_code, COUNT(*) AS count\n",
    "    FROM cleaned_data\n",
    "    GROUP BY invoice_number, customer_id, product_code\n",
    "    HAVING COUNT(*) > 1\n",
    ") duplicates) > 50;\n"
   ]
  }
 ],
 "metadata": {
  "application/vnd.databricks.v1+notebook": {
   "computePreferences": null,
   "dashboards": [],
   "environmentMetadata": {
    "base_environment": "",
    "environment_version": "2"
   },
   "language": "python",
   "notebookMetadata": {
    "mostRecentlyExecutedCommandWithImplicitDF": {
     "commandId": 8784696261893369,
     "dataframes": [
      "_sqldf"
     ]
    },
    "pythonIndentUnit": 4
   },
   "notebookName": "02 - Clean Data",
   "widgets": {}
  },
  "language_info": {
   "name": "python"
  }
 },
 "nbformat": 4,
 "nbformat_minor": 0
}
