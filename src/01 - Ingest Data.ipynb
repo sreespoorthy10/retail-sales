{
 "cells": [
  {
   "cell_type": "markdown",
   "metadata": {
    "application/vnd.databricks.v1+cell": {
     "cellMetadata": {},
     "inputWidgets": {},
     "nuid": "62d96c7b-fa90-4efa-8897-570684f7db99",
     "showTitle": false,
     "tableResultSettingsMap": {},
     "title": ""
    }
   },
   "source": [
    "\n",
    "#Read the raw csv file into a DataFrame"
   ]
  },
  {
   "cell_type": "code",
   "execution_count": 0,
   "metadata": {
    "application/vnd.databricks.v1+cell": {
     "cellMetadata": {
      "byteLimit": 2048000,
      "rowLimit": 10000
     },
     "inputWidgets": {},
     "nuid": "ea2a2d09-e64a-48ff-9a9d-019d345a2e4e",
     "showTitle": false,
     "tableResultSettingsMap": {},
     "title": ""
    }
   },
   "outputs": [],
   "source": [
    "raw_df = spark.read.option(\"header\", \"true\").option(\"inferschema\", \"true\").csv(\"/Volumes/online_retail/bronze/raw/online_retail.csv\")"
   ]
  },
  {
   "cell_type": "markdown",
   "metadata": {
    "application/vnd.databricks.v1+cell": {
     "cellMetadata": {},
     "inputWidgets": {},
     "nuid": "81031c1c-63bf-44b2-880e-fd195a1a16be",
     "showTitle": false,
     "tableResultSettingsMap": {},
     "title": ""
    }
   },
   "source": [
    "\n",
    "#Use the necessary catalog and schema"
   ]
  },
  {
   "cell_type": "code",
   "execution_count": 0,
   "metadata": {
    "application/vnd.databricks.v1+cell": {
     "cellMetadata": {
      "byteLimit": 2048000,
      "implicitDf": true,
      "rowLimit": 10000
     },
     "inputWidgets": {},
     "nuid": "6925c87d-514c-4988-8b98-8c442178661b",
     "showTitle": false,
     "tableResultSettingsMap": {},
     "title": ""
    }
   },
   "outputs": [],
   "source": [
    "%sql\n",
    "USE CATALOG online_retail;\n",
    "CREATE SCHEMA IF NOT EXISTS bronze;\n",
    "USE SCHEMA bronze;"
   ]
  },
  {
   "cell_type": "markdown",
   "metadata": {
    "application/vnd.databricks.v1+cell": {
     "cellMetadata": {},
     "inputWidgets": {},
     "nuid": "635b4059-5dd2-4638-973e-39af590430fd",
     "showTitle": false,
     "tableResultSettingsMap": {},
     "title": ""
    }
   },
   "source": [
    "\n",
    "#Merge Data into Target Table"
   ]
  },
  {
   "cell_type": "code",
   "execution_count": 0,
   "metadata": {
    "application/vnd.databricks.v1+cell": {
     "cellMetadata": {
      "byteLimit": 2048000,
      "implicitDf": true,
      "rowLimit": 10000
     },
     "inputWidgets": {},
     "nuid": "15dc1bbb-3cc2-43c0-9222-c2a56bdb270c",
     "showTitle": true,
     "tableResultSettingsMap": {},
     "title": "Create Target Table"
    }
   },
   "outputs": [],
   "source": [
    "%sql\n",
    "CREATE TABLE IF NOT EXISTS raw_data (\n",
    "  InvoiceNo STRING\n",
    "  , StockCode STRING\n",
    "  , Description STRING\n",
    "  , Quantity INTEGER\n",
    "  , InvoiceDate TIMESTAMP\n",
    "  , UnitPrice DOUBLE\n",
    "  , CustomerID DOUBLE\n",
    "  , Country STRING\n",
    ")\n",
    "TBLPROPERTIES ( \n",
    "  'spark.databricks.delta.vacuum.logging.enable' = 'true'\n",
    "  , 'spark.databricks.delta.liquidCluster.enabled' = 'true'\n",
    ")"
   ]
  },
  {
   "cell_type": "code",
   "execution_count": 0,
   "metadata": {
    "application/vnd.databricks.v1+cell": {
     "cellMetadata": {
      "byteLimit": 2048000,
      "implicitDf": true,
      "rowLimit": 10000
     },
     "inputWidgets": {},
     "nuid": "2306f209-706c-4a11-a7b6-5d586e168683",
     "showTitle": true,
     "tableResultSettingsMap": {},
     "title": "Vacuum table"
    }
   },
   "outputs": [],
   "source": [
    "%sql\n",
    "\n",
    "--VACUUM raw_data RETAIN 168 HOURS;       -- Commented out as it is not needed to run everytime"
   ]
  },
  {
   "cell_type": "code",
   "execution_count": 0,
   "metadata": {
    "application/vnd.databricks.v1+cell": {
     "cellMetadata": {
      "byteLimit": 2048000,
      "rowLimit": 10000
     },
     "inputWidgets": {},
     "nuid": "0d4154fc-97fb-4d87-8091-317ab53c12c3",
     "showTitle": true,
     "tableResultSettingsMap": {},
     "title": "Create source view"
    }
   },
   "outputs": [],
   "source": [
    "raw_df.createOrReplaceTempView(\"uvw_src_raw\")"
   ]
  },
  {
   "cell_type": "code",
   "execution_count": 0,
   "metadata": {
    "application/vnd.databricks.v1+cell": {
     "cellMetadata": {
      "byteLimit": 2048000,
      "implicitDf": true,
      "rowLimit": 10000
     },
     "inputWidgets": {},
     "nuid": "c167e2c9-a646-45a8-ac30-306c90f2847e",
     "showTitle": true,
     "tableResultSettingsMap": {},
     "title": "Merge into target table"
    }
   },
   "outputs": [],
   "source": [
    "%sql\n",
    "\n",
    "-- Merging on all columns because we want to load all the records\n",
    "MERGE INTO raw_data AS TGT\n",
    "USING uvw_src_raw AS SRC\n",
    "ON TGT.InvoiceNo        = SRC.InvoiceNo\n",
    "  AND TGT.StockCode       = SRC.StockCode\n",
    "  AND TGT.Description     = SRC.Description\n",
    "  AND TGT.Quantity        = SRC.Quantity\n",
    "  AND TGT.InvoiceDate     = SRC.InvoiceDate\n",
    "  AND TGT.UnitPrice       = SRC.UnitPrice\n",
    "  AND TGT.CustomerID      = SRC.CustomerID\n",
    "  AND TGT.Country         = SRC.Country\n",
    "WHEN NOT MATCHED \n",
    "  THEN INSERT *"
   ]
  }
 ],
 "metadata": {
  "application/vnd.databricks.v1+notebook": {
   "computePreferences": null,
   "dashboards": [],
   "environmentMetadata": {
    "base_environment": "",
    "environment_version": "2"
   },
   "inputWidgetPreferences": null,
   "language": "python",
   "notebookMetadata": {
    "mostRecentlyExecutedCommandWithImplicitDF": {
     "commandId": 8705837985057579,
     "dataframes": [
      "_sqldf"
     ]
    },
    "pythonIndentUnit": 4
   },
   "notebookName": "01 - Ingest Data",
   "widgets": {}
  },
  "language_info": {
   "name": "python"
  }
 },
 "nbformat": 4,
 "nbformat_minor": 0
}
