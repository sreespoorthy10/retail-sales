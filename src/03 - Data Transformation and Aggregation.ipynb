{
 "cells": [
  {
   "cell_type": "markdown",
   "metadata": {
    "application/vnd.databricks.v1+cell": {
     "cellMetadata": {
      "byteLimit": 2048000,
      "rowLimit": 10000
     },
     "inputWidgets": {},
     "nuid": "81562717-6890-4ac0-976b-00a7728c6e52",
     "showTitle": false,
     "tableResultSettingsMap": {},
     "title": ""
    }
   },
   "source": [
    "\n",
    "#Use necessary catalog and schema"
   ]
  },
  {
   "cell_type": "code",
   "execution_count": 0,
   "metadata": {
    "application/vnd.databricks.v1+cell": {
     "cellMetadata": {
      "byteLimit": 2048000,
      "implicitDf": true,
      "rowLimit": 10000
     },
     "inputWidgets": {},
     "nuid": "31559c67-f617-4245-abfe-851f9173cc40",
     "showTitle": false,
     "tableResultSettingsMap": {},
     "title": ""
    }
   },
   "outputs": [],
   "source": [
    "%sql\n",
    "USE CATALOG online_retail;\n",
    "CREATE SCHEMA IF NOT EXISTS gold;\n",
    "USE SCHEMA gold;"
   ]
  },
  {
   "cell_type": "markdown",
   "metadata": {
    "application/vnd.databricks.v1+cell": {
     "cellMetadata": {},
     "inputWidgets": {},
     "nuid": "41d91bd5-0c48-4067-96bc-a9d3ad37a707",
     "showTitle": false,
     "tableResultSettingsMap": {},
     "title": ""
    }
   },
   "source": [
    "#Read From Silver Layer"
   ]
  },
  {
   "cell_type": "code",
   "execution_count": 0,
   "metadata": {
    "application/vnd.databricks.v1+cell": {
     "cellMetadata": {
      "byteLimit": 2048000,
      "rowLimit": 10000
     },
     "inputWidgets": {},
     "nuid": "0e242bab-b2c5-4298-be36-d3df8a9c6e2e",
     "showTitle": true,
     "tableResultSettingsMap": {},
     "title": "Create source view"
    }
   },
   "outputs": [],
   "source": [
    "cleaned_df = spark.sql(\"SELECT * FROM silver.cleaned_data\")\n",
    "cleaned_df.createOrReplaceTempView(\"uvw_src_cleaned_df\")"
   ]
  },
  {
   "cell_type": "markdown",
   "metadata": {
    "application/vnd.databricks.v1+cell": {
     "cellMetadata": {
      "byteLimit": 2048000,
      "rowLimit": 10000
     },
     "inputWidgets": {},
     "nuid": "67028733-f5d1-483a-a7de-5be0b4f48673",
     "showTitle": false,
     "tableResultSettingsMap": {},
     "title": ""
    }
   },
   "source": [
    "\n",
    "#Merge Data into Target Table"
   ]
  },
  {
   "cell_type": "code",
   "execution_count": 0,
   "metadata": {
    "application/vnd.databricks.v1+cell": {
     "cellMetadata": {
      "byteLimit": 2048000,
      "implicitDf": true,
      "rowLimit": 10000
     },
     "inputWidgets": {},
     "nuid": "80ace59d-f901-4b98-8fac-981abde61a21",
     "showTitle": true,
     "tableResultSettingsMap": {},
     "title": "Create Target Table"
    }
   },
   "outputs": [],
   "source": [
    "%sql\n",
    "CREATE TABLE IF NOT EXISTS aggregated_data (\n",
    "  invoice_number STRING NOT NULL\n",
    "  , product_code STRING NOT NULL\n",
    "  , product_description STRING NOT NULL\n",
    "  , total_quantity INTEGER\n",
    "  , invoice_date TIMESTAMP\n",
    "  , average_unit_price DOUBLE\n",
    "  , customer_id INTEGER\n",
    "  , country STRING\n",
    ")\n",
    "TBLPROPERTIES ( \n",
    "  'spark.databricks.delta.vacuum.logging.enable' = 'true'\n",
    ");\n",
    "\n",
    "ALTER TABLE aggregated_data DROP CONSTRAINT IF EXISTS invoices_pk;\n",
    "ALTER TABLE aggregated_data ADD CONSTRAINT invoices_pk PRIMARY KEY (invoice_number, product_code);"
   ]
  },
  {
   "cell_type": "code",
   "execution_count": 0,
   "metadata": {
    "application/vnd.databricks.v1+cell": {
     "cellMetadata": {
      "byteLimit": 2048000,
      "implicitDf": true,
      "rowLimit": 10000
     },
     "inputWidgets": {},
     "nuid": "f85a9a20-4feb-40c5-b5e8-84070952697d",
     "showTitle": true,
     "tableResultSettingsMap": {},
     "title": "Vacuum table"
    }
   },
   "outputs": [],
   "source": [
    "%sql\n",
    "\n",
    "--VACUUM aggregated_data RETAIN 720 HOURS;  -- Commented out as it is not needed to run everytime"
   ]
  },
  {
   "cell_type": "code",
   "execution_count": 0,
   "metadata": {
    "application/vnd.databricks.v1+cell": {
     "cellMetadata": {
      "byteLimit": 2048000,
      "implicitDf": true,
      "rowLimit": 10000
     },
     "inputWidgets": {},
     "nuid": "49c86f5f-2eab-4592-ac93-45315c45d928",
     "showTitle": true,
     "tableResultSettingsMap": {},
     "title": "Merge into target table"
    }
   },
   "outputs": [],
   "source": [
    "%sql\n",
    "\n",
    "WITH CTE_transformed_data AS (\n",
    "  SELECT \n",
    "    invoice_number\n",
    "    , product_code\n",
    "    , MAX(LOWER(product_description))   AS product_description                  -- Taking maximum of product_description because found multiple descriptions for same product_code\n",
    "    , SUM(quantity)                     AS total_quantity                       -- Summing up total_quantity of a same product in an invoice\n",
    "    , MAX(invoice_date)                 AS invoice_date                         -- Taking maximum of invoice_date because found same invoice has different invoice_dates only with 1 second difference\n",
    "    , AVG(unit_price)                   AS average_unit_price                   -- Taking average price because one invoice has different prices for same product\n",
    "    , MAX(customer_id)                  AS customer_id\n",
    "    , MAX(UPPER(country))               AS country                              -- Converting country to upper case as part of standardization\n",
    "FROM uvw_src_cleaned_df\n",
    "GROUP BY invoice_number\n",
    "        , product_code\n",
    ")\n",
    "\n",
    "\n",
    "-- Merge only on invoice_number and product_code as these are the primary keys\n",
    "MERGE INTO aggregated_data AS TGT\n",
    "USING CTE_transformed_data AS SRC\n",
    "ON TGT.invoice_number = SRC.invoice_number\n",
    "AND TGT.product_code = SRC.product_code\n",
    "WHEN MATCHED\n",
    "THEN UPDATE SET *\n",
    "WHEN NOT MATCHED\n",
    "THEN INSERT *"
   ]
  }
 ],
 "metadata": {
  "application/vnd.databricks.v1+notebook": {
   "computePreferences": null,
   "dashboards": [],
   "environmentMetadata": {
    "base_environment": "",
    "environment_version": "2"
   },
   "inputWidgetPreferences": null,
   "language": "python",
   "notebookMetadata": {
    "mostRecentlyExecutedCommandWithImplicitDF": {
     "commandId": 8705837985057637,
     "dataframes": [
      "_sqldf"
     ]
    },
    "pythonIndentUnit": 4
   },
   "notebookName": "03 - Data Transformation and Aggregation",
   "widgets": {}
  },
  "language_info": {
   "name": "python"
  }
 },
 "nbformat": 4,
 "nbformat_minor": 0
}
