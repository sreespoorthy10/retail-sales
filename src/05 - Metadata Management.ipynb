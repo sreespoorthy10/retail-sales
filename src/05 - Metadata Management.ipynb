{
 "cells": [
  {
   "cell_type": "code",
   "execution_count": 0,
   "metadata": {
    "application/vnd.databricks.v1+cell": {
     "cellMetadata": {
      "byteLimit": 2048000,
      "implicitDf": true,
      "rowLimit": 10000
     },
     "inputWidgets": {},
     "nuid": "2861d974-e6a3-464a-9475-c477b0be72dd",
     "showTitle": false,
     "tableResultSettingsMap": {},
     "title": ""
    }
   },
   "outputs": [],
   "source": [
    "%sql\n",
    "USE CATALOG online_retail;\n",
    "CREATE SCHEMA if not exists silver;\n",
    "USE SCHEMA silver;"
   ]
  },
  {
   "cell_type": "code",
   "execution_count": 0,
   "metadata": {
    "application/vnd.databricks.v1+cell": {
     "cellMetadata": {
      "byteLimit": 2048000,
      "implicitDf": true,
      "rowLimit": 10000
     },
     "inputWidgets": {},
     "nuid": "a43f4820-768b-4178-a7b9-318f277e3417",
     "showTitle": false,
     "tableResultSettingsMap": {},
     "title": ""
    }
   },
   "outputs": [],
   "source": [
    "%sql\n",
    "CREATE TABLE IF NOT EXISTS silver.metadata_repository (\n",
    "    table_name STRING,\n",
    "    layer STRING,\n",
    "    data_source STRING,\n",
    "    transformation_details STRING,\n",
    "    storage_location STRING,\n",
    "    last_updated TIMESTAMP\n",
    ");"
   ]
  },
  {
   "cell_type": "code",
   "execution_count": 0,
   "metadata": {
    "application/vnd.databricks.v1+cell": {
     "cellMetadata": {
      "byteLimit": 2048000,
      "implicitDf": true,
      "rowLimit": 10000
     },
     "inputWidgets": {},
     "nuid": "4395f2ef-ebaa-429e-851a-dc8c95872656",
     "showTitle": false,
     "tableResultSettingsMap": {},
     "title": ""
    }
   },
   "outputs": [],
   "source": [
    "%sql\n",
    "INSERT INTO silver.metadata_repository (\n",
    "  table_name\n",
    "  , layer\n",
    "  , data_source\n",
    "  , transformation_details\n",
    "  , storage_location\n",
    "  , last_updated\n",
    ")\n",
    "VALUES \n",
    "    ('raw_data', 'Bronze', 'Raw CSV File', 'Initial ingestion from source', 'online_retail.bronze', Current_timestamp),\n",
    "    ('cleaned_data', 'Silver', 'raw_data', 'Cleaning and deduplication', 'online_retail.silver', Current_timestamp),\n",
    "    ('aggregated_data', 'Gold', 'cleaned_data', 'Transformations and aggregations', 'online_retail.gold', Current_timestamp),\n",
    "    ('dim_product', 'Gold', 'aggregated_data', 'Dimension table for products', 'online_retail.gold', Current_timestamp),\n",
    "    ('dim_customer', 'Gold', 'aggregated_data', 'Dimension table for customers', 'online_retail.gold', Current_timestamp),\n",
    "    ('fact_sale', 'Gold', 'aggregated_data', 'Fact table for sales', 'online_retail.gold', Current_timestamp)\n",
    "    ;"
   ]
  },
  {
   "cell_type": "code",
   "execution_count": 0,
   "metadata": {
    "application/vnd.databricks.v1+cell": {
     "cellMetadata": {
      "byteLimit": 2048000,
      "implicitDf": true,
      "rowLimit": 10000
     },
     "inputWidgets": {},
     "nuid": "8c75867e-1a23-4258-86aa-2606aadb1228",
     "showTitle": false,
     "tableResultSettingsMap": {},
     "title": ""
    }
   },
   "outputs": [],
   "source": [
    "%sql\n",
    "CREATE TABLE IF NOT EXISTS silver.data_versioning (\n",
    "    table_name STRING,\n",
    "    version_number INT,\n",
    "    num_affected_rows INT,\n",
    "    num_inserted_rows INT,\n",
    "    num_updated_rows INT,\n",
    "    num_deleted_rows INT,\n",
    "    change_time TIMESTAMP\n",
    ");"
   ]
  },
  {
   "cell_type": "code",
   "execution_count": 0,
   "metadata": {
    "application/vnd.databricks.v1+cell": {
     "cellMetadata": {},
     "inputWidgets": {},
     "nuid": "9f14840e-a199-4b1a-954c-66ec838f1267",
     "showTitle": false,
     "tableResultSettingsMap": {},
     "title": ""
    }
   },
   "outputs": [],
   "source": []
  }
 ],
 "metadata": {
  "application/vnd.databricks.v1+notebook": {
   "computePreferences": null,
   "dashboards": [],
   "environmentMetadata": {
    "base_environment": "",
    "environment_version": "2"
   },
   "language": "python",
   "notebookMetadata": {
    "mostRecentlyExecutedCommandWithImplicitDF": {
     "commandId": 8784696261893360,
     "dataframes": [
      "_sqldf"
     ]
    },
    "pythonIndentUnit": 4
   },
   "notebookName": "05 - Metadata Management",
   "widgets": {}
  },
  "language_info": {
   "name": "python"
  }
 },
 "nbformat": 4,
 "nbformat_minor": 0
}
