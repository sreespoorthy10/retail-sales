{
 "cells": [
  {
   "cell_type": "code",
   "execution_count": 0,
   "metadata": {
    "application/vnd.databricks.v1+cell": {
     "cellMetadata": {
      "byteLimit": 2048000,
      "implicitDf": true,
      "rowLimit": 10000
     },
     "inputWidgets": {},
     "nuid": "6cffdc55-4659-4110-9f5c-7a034402504a",
     "showTitle": false,
     "tableResultSettingsMap": {},
     "title": ""
    }
   },
   "outputs": [],
   "source": [
    "%sql\n",
    "USE CATALOG online_retail;\n",
    "CREATE SCHEMA if not exists silver;\n",
    "USE SCHEMA silver;"
   ]
  },
  {
   "cell_type": "code",
   "execution_count": 0,
   "metadata": {
    "application/vnd.databricks.v1+cell": {
     "cellMetadata": {
      "byteLimit": 2048000,
      "rowLimit": 10000
     },
     "inputWidgets": {},
     "nuid": "004abda1-45a9-4f65-b716-7f10c23a062d",
     "showTitle": false,
     "tableResultSettingsMap": {},
     "title": ""
    }
   },
   "outputs": [],
   "source": [
    "raw_df = spark.sql(\"SELECT * FROM bronze.raw_data\")\n",
    "raw_df.createOrReplaceTempView(\"uvw_raw_df\")"
   ]
  },
  {
   "cell_type": "code",
   "execution_count": 0,
   "metadata": {
    "application/vnd.databricks.v1+cell": {
     "cellMetadata": {
      "byteLimit": 2048000,
      "implicitDf": true,
      "rowLimit": 10000
     },
     "inputWidgets": {},
     "nuid": "8fec41a2-d934-4232-8df1-d0dbab3d0a74",
     "showTitle": false,
     "tableResultSettingsMap": {},
     "title": ""
    }
   },
   "outputs": [],
   "source": [
    "%sql\n",
    "CREATE TABLE IF NOT EXISTS cleaned_data (\n",
    "  invoice_number STRING NOT NULL\n",
    "  , product_code STRING NOT NULL\n",
    "  , product_description STRING NOT NULL\n",
    "  , quantity INTEGER\n",
    "  , invoice_date TIMESTAMP\n",
    "  , unit_price DOUBLE\n",
    "  , customer_id INT\n",
    "  , country STRING\n",
    ");\n",
    "\n",
    "ALTER TABLE cleaned_data DROP CONSTRAINT IF EXISTS quantity_check;\n",
    "ALTER TABLE cleaned_data ADD CONSTRAINT quantity_check CHECK (quantity >= 0);\n",
    "\n",
    "ALTER TABLE cleaned_data DROP CONSTRAINT IF EXISTS unit_price_check;\n",
    "ALTER TABLE cleaned_data ADD CONSTRAINT unit_price_check CHECK (unit_price >= 0);"
   ]
  },
  {
   "cell_type": "code",
   "execution_count": 0,
   "metadata": {
    "application/vnd.databricks.v1+cell": {
     "cellMetadata": {
      "byteLimit": 2048000,
      "implicitDf": true,
      "rowLimit": 10000
     },
     "inputWidgets": {},
     "nuid": "c345730f-1c8d-48b6-9900-491e3be251bc",
     "showTitle": false,
     "tableResultSettingsMap": {},
     "title": ""
    }
   },
   "outputs": [],
   "source": [
    "%sql\n",
    "WITH CTE_cleaned_data AS (\n",
    "    SELECT DISTINCT\n",
    "        COALESCE(InvoiceNo, 'Unknown')                              AS invoice_number\n",
    "        , COALESCE(StockCode, 'Unknown')                            AS product_code\n",
    "        , COALESCE(Description, 'Unknown')                          AS product_description\n",
    "        , COALESCE(Quantity, 0)                                     AS quantity\n",
    "        , COALESCE(InvoiceDate, '9999-01-01T00:00:00.000+00:00')    AS invoice_date \n",
    "        , COALESCE(UnitPrice, 0)                                    AS unit_price\n",
    "        , COALESCE(CustomerID, 0)                                   AS customer_id\n",
    "        , COALESCE(Country, 'Unknown')                              AS country\n",
    "    FROM uvw_raw_df\n",
    "    WHERE Quantity >= 0 AND UnitPrice >= 0\n",
    ")\n",
    "\n",
    "MERGE INTO cleaned_data AS TGT\n",
    "USING CTE_cleaned_data AS SRC\n",
    "ON TGT.invoice_number        = SRC.invoice_number\n",
    "  AND TGT.product_code       = SRC.product_code\n",
    "  AND TGT.product_description     = SRC.product_description\n",
    "  AND TGT.quantity        = SRC.quantity\n",
    "  AND TGT.invoice_date     = SRC.invoice_date\n",
    "  AND TGT.unit_price       = SRC.unit_price\n",
    "  AND TGT.customer_id      = SRC.customer_id\n",
    "  AND TGT.country         = SRC.country\n",
    "WHEN NOT MATCHED \n",
    "THEN INSERT *"
   ]
  },
  {
   "cell_type": "code",
   "execution_count": 0,
   "metadata": {
    "application/vnd.databricks.v1+cell": {
     "cellMetadata": {},
     "inputWidgets": {},
     "nuid": "1867f035-a166-414a-9144-63d34264579f",
     "showTitle": false,
     "tableResultSettingsMap": {},
     "title": ""
    }
   },
   "outputs": [],
   "source": [
    "%sql\n",
    "CREATE TABLE IF NOT EXISTS data_quality_checks (\n",
    "    check_name STRING,\n",
    "    layer STRING,\n",
    "    issue_count BIGINT,\n",
    "    last_checked TIMESTAMP\n",
    ");\n",
    "\n",
    "\n",
    "CREATE TABLE IF NOT EXISTS data_quality_alerts (\n",
    "    alert_id STRING,\n",
    "    issue STRING,\n",
    "    layer STRING,\n",
    "    detected_at TIMESTAMP,\n",
    "    severity STRING\n",
    ");"
   ]
  },
  {
   "cell_type": "code",
   "execution_count": 0,
   "metadata": {
    "application/vnd.databricks.v1+cell": {
     "cellMetadata": {},
     "inputWidgets": {},
     "nuid": "e1f4bf81-cc1a-4145-bb07-547266ce9e8a",
     "showTitle": false,
     "tableResultSettingsMap": {},
     "title": ""
    }
   },
   "outputs": [],
   "source": [
    "%sql\n",
    "-- Check for missing Customer IDs\n",
    "INSERT INTO data_quality_checks (\n",
    "  check_name\n",
    "  , layer\n",
    "  , issue_count\n",
    "  , last_checked\n",
    ")\n",
    "SELECT \n",
    "  'Missing CustomerID'\n",
    "  , 'Silver'\n",
    "  , COUNT(*)\n",
    "  , current_timestamp\n",
    "FROM cleaned_data\n",
    "WHERE customer_id = 0;"
   ]
  },
  {
   "cell_type": "code",
   "execution_count": 0,
   "metadata": {
    "application/vnd.databricks.v1+cell": {
     "cellMetadata": {},
     "inputWidgets": {},
     "nuid": "a99718c9-b243-412f-982f-7b8b500ef745",
     "showTitle": false,
     "tableResultSettingsMap": {},
     "title": ""
    }
   },
   "outputs": [],
   "source": [
    "%sql\n",
    "\n",
    "-- Check for negative or zero prices\n",
    "INSERT INTO data_quality_checks (\n",
    "  check_name\n",
    "  , layer\n",
    "  , issue_count\n",
    "  , last_checked\n",
    ")\n",
    "SELECT \n",
    "  'Negative or Zero Price'\n",
    "  , 'Silver'\n",
    "  , COUNT(*)\n",
    "  , current_timestamp\n",
    "FROM cleaned_data\n",
    "WHERE unit_price <= 0;"
   ]
  },
  {
   "cell_type": "code",
   "execution_count": 0,
   "metadata": {
    "application/vnd.databricks.v1+cell": {
     "cellMetadata": {},
     "inputWidgets": {},
     "nuid": "beea87d3-afff-44b6-9c9e-79c6edb38c7d",
     "showTitle": false,
     "tableResultSettingsMap": {},
     "title": ""
    }
   },
   "outputs": [],
   "source": [
    "%sql\n",
    "\n",
    "-- Check for duplicate invoices\n",
    "INSERT INTO data_quality_checks (\n",
    "  check_name\n",
    "  , layer\n",
    "  , issue_count\n",
    "  , last_checked\n",
    ")\n",
    "SELECT 'Duplicate Invoices', 'Silver', COUNT(*), current_timestamp\n",
    "FROM (\n",
    "    SELECT invoice_number, customer_id, product_code, COUNT(*) AS count\n",
    "    FROM cleaned_data\n",
    "    GROUP BY invoice_number, customer_id, product_code\n",
    "    HAVING COUNT(*) > 1\n",
    ") duplicates;"
   ]
  },
  {
   "cell_type": "code",
   "execution_count": 0,
   "metadata": {
    "application/vnd.databricks.v1+cell": {
     "cellMetadata": {},
     "inputWidgets": {},
     "nuid": "fb7b7b5e-013e-4d33-9a68-e7a68ea184ac",
     "showTitle": false,
     "tableResultSettingsMap": {},
     "title": ""
    }
   },
   "outputs": [],
   "source": [
    "%sql\n",
    "-- Data-Quality-Alerts\n",
    "-- Insert alerts for major anomalies\n",
    "INSERT INTO data_quality_alerts (\n",
    "  alert_id\n",
    "  , issue\n",
    "  , layer\n",
    "  , severity\n",
    "  , detected_at\n",
    ")\n",
    "SELECT \n",
    "  UUID()\n",
    "  , 'High number of missing CustomerIDs'\n",
    "  , 'Silver'\n",
    "  , 'High'\n",
    "  , current_timestamp\n",
    "WHERE (SELECT COUNT(*) FROM cleaned_data WHERE customer_id IS NULL) > 1000;"
   ]
  },
  {
   "cell_type": "code",
   "execution_count": 0,
   "metadata": {
    "application/vnd.databricks.v1+cell": {
     "cellMetadata": {},
     "inputWidgets": {},
     "nuid": "17aa1d8f-afc0-4751-b151-5be241b16bcd",
     "showTitle": false,
     "tableResultSettingsMap": {},
     "title": ""
    }
   },
   "outputs": [],
   "source": [
    "%sql\n",
    "\n",
    "INSERT INTO data_quality_alerts (\n",
    "  alert_id\n",
    "  , issue\n",
    "  , layer\n",
    "  , severity\n",
    "  , detected_at\n",
    ")\n",
    "SELECT \n",
    "  UUID()\n",
    "  , 'Negative or zero prices detected'\n",
    "  , 'Silver'\n",
    "  , 'Medium'\n",
    "  , current_timestamp\n",
    "WHERE (SELECT COUNT(*) FROM cleaned_data WHERE unit_price <= 0) > 100;"
   ]
  },
  {
   "cell_type": "code",
   "execution_count": 0,
   "metadata": {
    "application/vnd.databricks.v1+cell": {
     "cellMetadata": {},
     "inputWidgets": {},
     "nuid": "39428de8-9916-4c09-9cf8-60acea864072",
     "showTitle": false,
     "tableResultSettingsMap": {},
     "title": ""
    }
   },
   "outputs": [],
   "source": [
    "%sql\n",
    "\n",
    "INSERT INTO data_quality_alerts (\n",
    "  alert_id\n",
    "  , issue\n",
    "  , layer\n",
    "  , severity\n",
    "  , detected_at\n",
    ")\n",
    "SELECT \n",
    "  UUID()\n",
    "  , 'Duplicate invoices detected'\n",
    "  , 'Silver'\n",
    "  , 'Low'\n",
    "  , current_timestamp\n",
    "WHERE (SELECT COUNT(*) FROM (\n",
    "    SELECT invoice_number, customer_id, product_code, COUNT(*) AS count\n",
    "    FROM cleaned_data\n",
    "    GROUP BY invoice_number, customer_id, product_code\n",
    "    HAVING COUNT(*) > 1\n",
    ") duplicates) > 50;\n"
   ]
  }
 ],
 "metadata": {
  "application/vnd.databricks.v1+notebook": {
   "computePreferences": null,
   "dashboards": [],
   "environmentMetadata": {
    "base_environment": "",
    "environment_version": "2"
   },
   "language": "python",
   "notebookMetadata": {
    "mostRecentlyExecutedCommandWithImplicitDF": {
     "commandId": 8705837985057615,
     "dataframes": [
      "_sqldf"
     ]
    },
    "pythonIndentUnit": 4
   },
   "notebookName": "02 - Clean Data",
   "widgets": {}
  },
  "language_info": {
   "name": "python"
  }
 },
 "nbformat": 4,
 "nbformat_minor": 0
}
